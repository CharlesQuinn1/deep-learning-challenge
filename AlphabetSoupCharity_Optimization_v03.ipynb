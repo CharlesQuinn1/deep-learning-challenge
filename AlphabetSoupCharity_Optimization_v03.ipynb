{
 "cells": [
  {
   "cell_type": "markdown",
   "metadata": {},
   "source": [
    "## Preprocessing"
   ]
  },
  {
   "cell_type": "code",
   "execution_count": 1,
   "metadata": {},
   "outputs": [
    {
     "data": {
      "text/html": [
       "<div>\n",
       "<style scoped>\n",
       "    .dataframe tbody tr th:only-of-type {\n",
       "        vertical-align: middle;\n",
       "    }\n",
       "\n",
       "    .dataframe tbody tr th {\n",
       "        vertical-align: top;\n",
       "    }\n",
       "\n",
       "    .dataframe thead th {\n",
       "        text-align: right;\n",
       "    }\n",
       "</style>\n",
       "<table border=\"1\" class=\"dataframe\">\n",
       "  <thead>\n",
       "    <tr style=\"text-align: right;\">\n",
       "      <th></th>\n",
       "      <th>EIN</th>\n",
       "      <th>NAME</th>\n",
       "      <th>APPLICATION_TYPE</th>\n",
       "      <th>AFFILIATION</th>\n",
       "      <th>CLASSIFICATION</th>\n",
       "      <th>USE_CASE</th>\n",
       "      <th>ORGANIZATION</th>\n",
       "      <th>STATUS</th>\n",
       "      <th>INCOME_AMT</th>\n",
       "      <th>SPECIAL_CONSIDERATIONS</th>\n",
       "      <th>ASK_AMT</th>\n",
       "      <th>IS_SUCCESSFUL</th>\n",
       "    </tr>\n",
       "  </thead>\n",
       "  <tbody>\n",
       "    <tr>\n",
       "      <th>0</th>\n",
       "      <td>10520599</td>\n",
       "      <td>BLUE KNIGHTS MOTORCYCLE CLUB</td>\n",
       "      <td>T10</td>\n",
       "      <td>Independent</td>\n",
       "      <td>C1000</td>\n",
       "      <td>ProductDev</td>\n",
       "      <td>Association</td>\n",
       "      <td>1</td>\n",
       "      <td>0</td>\n",
       "      <td>N</td>\n",
       "      <td>5000</td>\n",
       "      <td>1</td>\n",
       "    </tr>\n",
       "    <tr>\n",
       "      <th>1</th>\n",
       "      <td>10531628</td>\n",
       "      <td>AMERICAN CHESAPEAKE CLUB CHARITABLE TR</td>\n",
       "      <td>T3</td>\n",
       "      <td>Independent</td>\n",
       "      <td>C2000</td>\n",
       "      <td>Preservation</td>\n",
       "      <td>Co-operative</td>\n",
       "      <td>1</td>\n",
       "      <td>1-9999</td>\n",
       "      <td>N</td>\n",
       "      <td>108590</td>\n",
       "      <td>1</td>\n",
       "    </tr>\n",
       "    <tr>\n",
       "      <th>2</th>\n",
       "      <td>10547893</td>\n",
       "      <td>ST CLOUD PROFESSIONAL FIREFIGHTERS</td>\n",
       "      <td>T5</td>\n",
       "      <td>CompanySponsored</td>\n",
       "      <td>C3000</td>\n",
       "      <td>ProductDev</td>\n",
       "      <td>Association</td>\n",
       "      <td>1</td>\n",
       "      <td>0</td>\n",
       "      <td>N</td>\n",
       "      <td>5000</td>\n",
       "      <td>0</td>\n",
       "    </tr>\n",
       "    <tr>\n",
       "      <th>3</th>\n",
       "      <td>10553066</td>\n",
       "      <td>SOUTHSIDE ATHLETIC ASSOCIATION</td>\n",
       "      <td>T3</td>\n",
       "      <td>CompanySponsored</td>\n",
       "      <td>C2000</td>\n",
       "      <td>Preservation</td>\n",
       "      <td>Trust</td>\n",
       "      <td>1</td>\n",
       "      <td>10000-24999</td>\n",
       "      <td>N</td>\n",
       "      <td>6692</td>\n",
       "      <td>1</td>\n",
       "    </tr>\n",
       "    <tr>\n",
       "      <th>4</th>\n",
       "      <td>10556103</td>\n",
       "      <td>GENETIC RESEARCH INSTITUTE OF THE DESERT</td>\n",
       "      <td>T3</td>\n",
       "      <td>Independent</td>\n",
       "      <td>C1000</td>\n",
       "      <td>Heathcare</td>\n",
       "      <td>Trust</td>\n",
       "      <td>1</td>\n",
       "      <td>100000-499999</td>\n",
       "      <td>N</td>\n",
       "      <td>142590</td>\n",
       "      <td>1</td>\n",
       "    </tr>\n",
       "  </tbody>\n",
       "</table>\n",
       "</div>"
      ],
      "text/plain": [
       "        EIN                                      NAME APPLICATION_TYPE  \\\n",
       "0  10520599              BLUE KNIGHTS MOTORCYCLE CLUB              T10   \n",
       "1  10531628    AMERICAN CHESAPEAKE CLUB CHARITABLE TR               T3   \n",
       "2  10547893        ST CLOUD PROFESSIONAL FIREFIGHTERS               T5   \n",
       "3  10553066            SOUTHSIDE ATHLETIC ASSOCIATION               T3   \n",
       "4  10556103  GENETIC RESEARCH INSTITUTE OF THE DESERT               T3   \n",
       "\n",
       "        AFFILIATION CLASSIFICATION      USE_CASE  ORGANIZATION  STATUS  \\\n",
       "0       Independent          C1000    ProductDev   Association       1   \n",
       "1       Independent          C2000  Preservation  Co-operative       1   \n",
       "2  CompanySponsored          C3000    ProductDev   Association       1   \n",
       "3  CompanySponsored          C2000  Preservation         Trust       1   \n",
       "4       Independent          C1000     Heathcare         Trust       1   \n",
       "\n",
       "      INCOME_AMT SPECIAL_CONSIDERATIONS  ASK_AMT  IS_SUCCESSFUL  \n",
       "0              0                      N     5000              1  \n",
       "1         1-9999                      N   108590              1  \n",
       "2              0                      N     5000              0  \n",
       "3    10000-24999                      N     6692              1  \n",
       "4  100000-499999                      N   142590              1  "
      ]
     },
     "execution_count": 1,
     "metadata": {},
     "output_type": "execute_result"
    }
   ],
   "source": [
    "# Import our dependencies\n",
    "from sklearn.model_selection import train_test_split\n",
    "from sklearn.preprocessing import StandardScaler\n",
    "import pandas as pd\n",
    "import tensorflow as tf\n",
    "\n",
    "#  Import and read the charity_data.csv.\n",
    "import pandas as pd \n",
    "application_df = pd.read_csv(\"https://static.bc-edx.com/data/dl-1-2/m21/lms/starter/charity_data.csv\")\n",
    "application_df.head()"
   ]
  },
  {
   "cell_type": "code",
   "execution_count": 3,
   "metadata": {},
   "outputs": [],
   "source": [
    "# Write charity_data.csv to a new file\n",
    "application_df.to_csv(\"charity_data.csv\", index=False)"
   ]
  },
  {
   "cell_type": "code",
   "execution_count": 2,
   "metadata": {},
   "outputs": [],
   "source": [
    "# Drop the non-beneficial ID columns, 'EIN' and 'NAME'.\n",
    "# application_df = application_df.drop(columns=[\"EIN\", \"NAME\"], axis=1)\n",
    "application_df = application_df.drop(columns=[\"EIN\", \"NAME\", \"AFFILIATION\", \"APPLICATION_TYPE\", \"ORGANIZATION\", \"CLASSIFICATION\",\"STATUS\", \"INCOME_AMT\", \"SPECIAL_CONSIDERATIONS\"], axis=1)"
   ]
  },
  {
   "cell_type": "code",
   "execution_count": 3,
   "metadata": {},
   "outputs": [
    {
     "data": {
      "text/html": [
       "<div>\n",
       "<style scoped>\n",
       "    .dataframe tbody tr th:only-of-type {\n",
       "        vertical-align: middle;\n",
       "    }\n",
       "\n",
       "    .dataframe tbody tr th {\n",
       "        vertical-align: top;\n",
       "    }\n",
       "\n",
       "    .dataframe thead th {\n",
       "        text-align: right;\n",
       "    }\n",
       "</style>\n",
       "<table border=\"1\" class=\"dataframe\">\n",
       "  <thead>\n",
       "    <tr style=\"text-align: right;\">\n",
       "      <th></th>\n",
       "      <th>USE_CASE</th>\n",
       "      <th>ASK_AMT</th>\n",
       "      <th>IS_SUCCESSFUL</th>\n",
       "    </tr>\n",
       "  </thead>\n",
       "  <tbody>\n",
       "    <tr>\n",
       "      <th>0</th>\n",
       "      <td>ProductDev</td>\n",
       "      <td>5000</td>\n",
       "      <td>1</td>\n",
       "    </tr>\n",
       "    <tr>\n",
       "      <th>1</th>\n",
       "      <td>Preservation</td>\n",
       "      <td>108590</td>\n",
       "      <td>1</td>\n",
       "    </tr>\n",
       "    <tr>\n",
       "      <th>2</th>\n",
       "      <td>ProductDev</td>\n",
       "      <td>5000</td>\n",
       "      <td>0</td>\n",
       "    </tr>\n",
       "    <tr>\n",
       "      <th>3</th>\n",
       "      <td>Preservation</td>\n",
       "      <td>6692</td>\n",
       "      <td>1</td>\n",
       "    </tr>\n",
       "    <tr>\n",
       "      <th>4</th>\n",
       "      <td>Heathcare</td>\n",
       "      <td>142590</td>\n",
       "      <td>1</td>\n",
       "    </tr>\n",
       "  </tbody>\n",
       "</table>\n",
       "</div>"
      ],
      "text/plain": [
       "       USE_CASE  ASK_AMT  IS_SUCCESSFUL\n",
       "0    ProductDev     5000              1\n",
       "1  Preservation   108590              1\n",
       "2    ProductDev     5000              0\n",
       "3  Preservation     6692              1\n",
       "4     Heathcare   142590              1"
      ]
     },
     "execution_count": 3,
     "metadata": {},
     "output_type": "execute_result"
    }
   ],
   "source": [
    "application_df.head()"
   ]
  },
  {
   "cell_type": "code",
   "execution_count": 4,
   "metadata": {},
   "outputs": [
    {
     "data": {
      "text/plain": [
       "USE_CASE            5\n",
       "ASK_AMT          8747\n",
       "IS_SUCCESSFUL       2\n",
       "dtype: int64"
      ]
     },
     "execution_count": 4,
     "metadata": {},
     "output_type": "execute_result"
    }
   ],
   "source": [
    "# Determine the number of unique values in each column.\n",
    "application_df.nunique()"
   ]
  },
  {
   "cell_type": "code",
   "execution_count": 5,
   "metadata": {},
   "outputs": [
    {
     "data": {
      "text/plain": [
       "USE_CASE\n",
       "Preservation     28095\n",
       "ProductDev        5671\n",
       "CommunityServ      384\n",
       "Heathcare          146\n",
       "Other                3\n",
       "Name: count, dtype: int64"
      ]
     },
     "execution_count": 5,
     "metadata": {},
     "output_type": "execute_result"
    }
   ],
   "source": [
    "application_df['USE_CASE'].value_counts()"
   ]
  },
  {
   "cell_type": "code",
   "execution_count": 6,
   "metadata": {},
   "outputs": [
    {
     "data": {
      "text/plain": [
       "USE_CASE\n",
       "Preservation    28095\n",
       "ProductDev       5671\n",
       "Other             533\n",
       "Name: count, dtype: int64"
      ]
     },
     "execution_count": 6,
     "metadata": {},
     "output_type": "execute_result"
    }
   ],
   "source": [
    "# Choose a cutoff value and create a list of application types to be replaced\n",
    "# use the variable name `application_types_to_replace`\n",
    "application_types_to_replace = list(application_df[\"USE_CASE\"].value_counts()[application_df[\"USE_CASE\"].value_counts() < 5000].index)\n",
    "\n",
    "# Replace in dataframe\n",
    "for app in application_types_to_replace:\n",
    "    application_df['USE_CASE'] = application_df['USE_CASE'].replace(app,\"Other\")\n",
    "\n",
    "# Check to make sure binning was successful\n",
    "application_df['USE_CASE'].value_counts()"
   ]
  },
  {
   "cell_type": "code",
   "execution_count": 7,
   "metadata": {},
   "outputs": [
    {
     "data": {
      "text/html": [
       "<div>\n",
       "<style scoped>\n",
       "    .dataframe tbody tr th:only-of-type {\n",
       "        vertical-align: middle;\n",
       "    }\n",
       "\n",
       "    .dataframe tbody tr th {\n",
       "        vertical-align: top;\n",
       "    }\n",
       "\n",
       "    .dataframe thead th {\n",
       "        text-align: right;\n",
       "    }\n",
       "</style>\n",
       "<table border=\"1\" class=\"dataframe\">\n",
       "  <thead>\n",
       "    <tr style=\"text-align: right;\">\n",
       "      <th></th>\n",
       "      <th>USE_CASE</th>\n",
       "      <th>ASK_AMT</th>\n",
       "      <th>IS_SUCCESSFUL</th>\n",
       "    </tr>\n",
       "  </thead>\n",
       "  <tbody>\n",
       "    <tr>\n",
       "      <th>0</th>\n",
       "      <td>ProductDev</td>\n",
       "      <td>5000</td>\n",
       "      <td>1</td>\n",
       "    </tr>\n",
       "    <tr>\n",
       "      <th>1</th>\n",
       "      <td>Preservation</td>\n",
       "      <td>108590</td>\n",
       "      <td>1</td>\n",
       "    </tr>\n",
       "    <tr>\n",
       "      <th>2</th>\n",
       "      <td>ProductDev</td>\n",
       "      <td>5000</td>\n",
       "      <td>0</td>\n",
       "    </tr>\n",
       "    <tr>\n",
       "      <th>3</th>\n",
       "      <td>Preservation</td>\n",
       "      <td>6692</td>\n",
       "      <td>1</td>\n",
       "    </tr>\n",
       "    <tr>\n",
       "      <th>4</th>\n",
       "      <td>Other</td>\n",
       "      <td>142590</td>\n",
       "      <td>1</td>\n",
       "    </tr>\n",
       "  </tbody>\n",
       "</table>\n",
       "</div>"
      ],
      "text/plain": [
       "       USE_CASE  ASK_AMT  IS_SUCCESSFUL\n",
       "0    ProductDev     5000              1\n",
       "1  Preservation   108590              1\n",
       "2    ProductDev     5000              0\n",
       "3  Preservation     6692              1\n",
       "4         Other   142590              1"
      ]
     },
     "execution_count": 7,
     "metadata": {},
     "output_type": "execute_result"
    }
   ],
   "source": [
    "application_df.head()"
   ]
  },
  {
   "cell_type": "code",
   "execution_count": 8,
   "metadata": {},
   "outputs": [
    {
     "data": {
      "text/plain": [
       "USE_CASE            3\n",
       "ASK_AMT          8747\n",
       "IS_SUCCESSFUL       2\n",
       "dtype: int64"
      ]
     },
     "execution_count": 8,
     "metadata": {},
     "output_type": "execute_result"
    }
   ],
   "source": [
    "application_df.nunique()"
   ]
  },
  {
   "cell_type": "code",
   "execution_count": 9,
   "metadata": {},
   "outputs": [
    {
     "data": {
      "text/html": [
       "<div>\n",
       "<style scoped>\n",
       "    .dataframe tbody tr th:only-of-type {\n",
       "        vertical-align: middle;\n",
       "    }\n",
       "\n",
       "    .dataframe tbody tr th {\n",
       "        vertical-align: top;\n",
       "    }\n",
       "\n",
       "    .dataframe thead th {\n",
       "        text-align: right;\n",
       "    }\n",
       "</style>\n",
       "<table border=\"1\" class=\"dataframe\">\n",
       "  <thead>\n",
       "    <tr style=\"text-align: right;\">\n",
       "      <th></th>\n",
       "      <th>ASK_AMT</th>\n",
       "      <th>IS_SUCCESSFUL</th>\n",
       "      <th>USE_CASE_Other</th>\n",
       "      <th>USE_CASE_Preservation</th>\n",
       "      <th>USE_CASE_ProductDev</th>\n",
       "    </tr>\n",
       "  </thead>\n",
       "  <tbody>\n",
       "    <tr>\n",
       "      <th>0</th>\n",
       "      <td>5000</td>\n",
       "      <td>1</td>\n",
       "      <td>0</td>\n",
       "      <td>0</td>\n",
       "      <td>1</td>\n",
       "    </tr>\n",
       "    <tr>\n",
       "      <th>1</th>\n",
       "      <td>108590</td>\n",
       "      <td>1</td>\n",
       "      <td>0</td>\n",
       "      <td>1</td>\n",
       "      <td>0</td>\n",
       "    </tr>\n",
       "    <tr>\n",
       "      <th>2</th>\n",
       "      <td>5000</td>\n",
       "      <td>0</td>\n",
       "      <td>0</td>\n",
       "      <td>0</td>\n",
       "      <td>1</td>\n",
       "    </tr>\n",
       "    <tr>\n",
       "      <th>3</th>\n",
       "      <td>6692</td>\n",
       "      <td>1</td>\n",
       "      <td>0</td>\n",
       "      <td>1</td>\n",
       "      <td>0</td>\n",
       "    </tr>\n",
       "    <tr>\n",
       "      <th>4</th>\n",
       "      <td>142590</td>\n",
       "      <td>1</td>\n",
       "      <td>1</td>\n",
       "      <td>0</td>\n",
       "      <td>0</td>\n",
       "    </tr>\n",
       "  </tbody>\n",
       "</table>\n",
       "</div>"
      ],
      "text/plain": [
       "   ASK_AMT  IS_SUCCESSFUL  USE_CASE_Other  USE_CASE_Preservation  \\\n",
       "0     5000              1               0                      0   \n",
       "1   108590              1               0                      1   \n",
       "2     5000              0               0                      0   \n",
       "3     6692              1               0                      1   \n",
       "4   142590              1               1                      0   \n",
       "\n",
       "   USE_CASE_ProductDev  \n",
       "0                    1  \n",
       "1                    0  \n",
       "2                    1  \n",
       "3                    0  \n",
       "4                    0  "
      ]
     },
     "execution_count": 9,
     "metadata": {},
     "output_type": "execute_result"
    }
   ],
   "source": [
    "# Convert categorical data to numeric with `pd.get_dummies`\n",
    "application_df = pd.get_dummies(application_df)\n",
    "\n",
    "# Update True/False columns to 1/0\n",
    "application_df = application_df.replace({True:1, False:0})\n",
    "\n",
    "application_df.head()"
   ]
  },
  {
   "cell_type": "code",
   "execution_count": 10,
   "metadata": {},
   "outputs": [],
   "source": [
    "# Split our preprocessed data into our features and target arrays\n",
    "y = application_df[\"IS_SUCCESSFUL\"].values\n",
    "X = application_df.drop(columns=[\"IS_SUCCESSFUL\"], axis=1).values\n",
    "\n",
    "# Split the preprocessed data into a training and testing dataset\n",
    "X_train, X_test, y_train, y_test = train_test_split(X, y, random_state=78)"
   ]
  },
  {
   "cell_type": "code",
   "execution_count": 11,
   "metadata": {},
   "outputs": [],
   "source": [
    "# Create a StandardScaler instances\n",
    "scaler = StandardScaler()\n",
    "\n",
    "# Fit the StandardScaler\n",
    "X_scaler = scaler.fit(X_train)\n",
    "\n",
    "# Scale the data\n",
    "X_train_scaled = X_scaler.transform(X_train)\n",
    "X_test_scaled = X_scaler.transform(X_test)"
   ]
  },
  {
   "cell_type": "code",
   "execution_count": 12,
   "metadata": {},
   "outputs": [
    {
     "name": "stdout",
     "output_type": "stream",
     "text": [
      "4\n"
     ]
    }
   ],
   "source": [
    "print(len(X_train[0]))"
   ]
  },
  {
   "cell_type": "markdown",
   "metadata": {},
   "source": [
    "## Compile, Train and Evaluate the Model"
   ]
  },
  {
   "cell_type": "code",
   "execution_count": 13,
   "metadata": {},
   "outputs": [
    {
     "name": "stdout",
     "output_type": "stream",
     "text": [
      "Model: \"sequential\"\n",
      "_________________________________________________________________\n",
      " Layer (type)                Output Shape              Param #   \n",
      "=================================================================\n",
      " dense (Dense)               (None, 21)                105       \n",
      "                                                                 \n",
      " dense_1 (Dense)             (None, 6)                 132       \n",
      "                                                                 \n",
      " dense_2 (Dense)             (None, 6)                 42        \n",
      "                                                                 \n",
      " dense_3 (Dense)             (None, 1)                 7         \n",
      "                                                                 \n",
      "=================================================================\n",
      "Total params: 286 (1.12 KB)\n",
      "Trainable params: 286 (1.12 KB)\n",
      "Non-trainable params: 0 (0.00 Byte)\n",
      "_________________________________________________________________\n"
     ]
    }
   ],
   "source": [
    "# Define the model - deep neural net, i.e., the number of input features and hidden nodes for each layer.\n",
    "number_input_features = len(X_train[0])\n",
    "\n",
    "nn = tf.keras.models.Sequential()\n",
    "\n",
    "# First hidden layer\n",
    "nn.add(tf.keras.layers.Dense(units=21, activation=\"relu\", input_dim=number_input_features))\n",
    "\n",
    "# 2nd hidden layer\n",
    "nn.add(tf.keras.layers.Dense(units=6, activation=\"relu\"))\n",
    "\n",
    "# 3rd hidden layer\n",
    "nn.add(tf.keras.layers.Dense(units=6, activation=\"relu\"))\n",
    "\n",
    "# 4th hidden layer\n",
    "# nn.add(tf.keras.layers.Dense(units=4, activation=\"relu\"))\n",
    "\n",
    "# Output layer\n",
    "nn.add(tf.keras.layers.Dense(units=1, activation=\"sigmoid\"))\n",
    "\n",
    "# Check the structure of the model\n",
    "nn.summary()"
   ]
  },
  {
   "cell_type": "code",
   "execution_count": 14,
   "metadata": {},
   "outputs": [],
   "source": [
    "# Compile the model\n",
    "nn.compile(loss=\"binary_crossentropy\", optimizer=\"adam\", metrics=[\"accuracy\"])"
   ]
  },
  {
   "cell_type": "code",
   "execution_count": 15,
   "metadata": {},
   "outputs": [
    {
     "name": "stdout",
     "output_type": "stream",
     "text": [
      "Epoch 1/100\n",
      "804/804 [==============================] - 1s 745us/step - loss: 0.6912 - accuracy: 0.5355\n",
      "Epoch 2/100\n",
      "804/804 [==============================] - 1s 726us/step - loss: 0.6904 - accuracy: 0.5371\n",
      "Epoch 3/100\n",
      "804/804 [==============================] - 1s 702us/step - loss: 0.6902 - accuracy: 0.5376\n",
      "Epoch 4/100\n",
      "804/804 [==============================] - 1s 707us/step - loss: 0.6901 - accuracy: 0.5376\n",
      "Epoch 5/100\n",
      "804/804 [==============================] - 1s 704us/step - loss: 0.6900 - accuracy: 0.5379\n",
      "Epoch 6/100\n",
      "804/804 [==============================] - 1s 708us/step - loss: 0.6901 - accuracy: 0.5382\n",
      "Epoch 7/100\n",
      "804/804 [==============================] - 1s 725us/step - loss: 0.6899 - accuracy: 0.5383\n",
      "Epoch 8/100\n",
      "804/804 [==============================] - 1s 704us/step - loss: 0.6901 - accuracy: 0.5386\n",
      "Epoch 9/100\n",
      "804/804 [==============================] - 1s 731us/step - loss: 0.6898 - accuracy: 0.5390\n",
      "Epoch 10/100\n",
      "804/804 [==============================] - 1s 764us/step - loss: 0.6898 - accuracy: 0.5386\n",
      "Epoch 11/100\n",
      "804/804 [==============================] - 1s 801us/step - loss: 0.6897 - accuracy: 0.5381\n",
      "Epoch 12/100\n",
      "804/804 [==============================] - 1s 798us/step - loss: 0.6898 - accuracy: 0.5391\n",
      "Epoch 13/100\n",
      "804/804 [==============================] - 1s 800us/step - loss: 0.6897 - accuracy: 0.5394\n",
      "Epoch 14/100\n",
      "804/804 [==============================] - 1s 800us/step - loss: 0.6897 - accuracy: 0.5388\n",
      "Epoch 15/100\n",
      "804/804 [==============================] - 1s 812us/step - loss: 0.6898 - accuracy: 0.5396\n",
      "Epoch 16/100\n",
      "804/804 [==============================] - 1s 807us/step - loss: 0.6896 - accuracy: 0.5399\n",
      "Epoch 17/100\n",
      "804/804 [==============================] - 1s 801us/step - loss: 0.6896 - accuracy: 0.5402\n",
      "Epoch 18/100\n",
      "804/804 [==============================] - 1s 794us/step - loss: 0.6896 - accuracy: 0.5404\n",
      "Epoch 19/100\n",
      "804/804 [==============================] - 1s 782us/step - loss: 0.6896 - accuracy: 0.5404\n",
      "Epoch 20/100\n",
      "804/804 [==============================] - 1s 796us/step - loss: 0.6895 - accuracy: 0.5406\n",
      "Epoch 21/100\n",
      "804/804 [==============================] - 1s 808us/step - loss: 0.6896 - accuracy: 0.5409\n",
      "Epoch 22/100\n",
      "804/804 [==============================] - 1s 796us/step - loss: 0.6894 - accuracy: 0.5406\n",
      "Epoch 23/100\n",
      "804/804 [==============================] - 1s 787us/step - loss: 0.6894 - accuracy: 0.5408\n",
      "Epoch 24/100\n",
      "804/804 [==============================] - 1s 788us/step - loss: 0.6894 - accuracy: 0.5405\n",
      "Epoch 25/100\n",
      "804/804 [==============================] - 1s 823us/step - loss: 0.6893 - accuracy: 0.5408\n",
      "Epoch 26/100\n",
      "804/804 [==============================] - 1s 798us/step - loss: 0.6894 - accuracy: 0.5401\n",
      "Epoch 27/100\n",
      "804/804 [==============================] - 1s 809us/step - loss: 0.6893 - accuracy: 0.5416\n",
      "Epoch 28/100\n",
      "804/804 [==============================] - 1s 791us/step - loss: 0.6892 - accuracy: 0.5412\n",
      "Epoch 29/100\n",
      "804/804 [==============================] - 1s 782us/step - loss: 0.6893 - accuracy: 0.5410\n",
      "Epoch 30/100\n",
      "804/804 [==============================] - 1s 785us/step - loss: 0.6893 - accuracy: 0.5409\n",
      "Epoch 31/100\n",
      "804/804 [==============================] - 1s 799us/step - loss: 0.6892 - accuracy: 0.5412\n",
      "Epoch 32/100\n",
      "804/804 [==============================] - 1s 803us/step - loss: 0.6892 - accuracy: 0.5413\n",
      "Epoch 33/100\n",
      "804/804 [==============================] - 1s 794us/step - loss: 0.6892 - accuracy: 0.5404\n",
      "Epoch 34/100\n",
      "804/804 [==============================] - 1s 813us/step - loss: 0.6892 - accuracy: 0.5411\n",
      "Epoch 35/100\n",
      "804/804 [==============================] - 1s 790us/step - loss: 0.6892 - accuracy: 0.5411\n",
      "Epoch 36/100\n",
      "804/804 [==============================] - 1s 784us/step - loss: 0.6892 - accuracy: 0.5407\n",
      "Epoch 37/100\n",
      "804/804 [==============================] - 1s 799us/step - loss: 0.6892 - accuracy: 0.5411\n",
      "Epoch 38/100\n",
      "804/804 [==============================] - 1s 815us/step - loss: 0.6892 - accuracy: 0.5413\n",
      "Epoch 39/100\n",
      "804/804 [==============================] - 1s 802us/step - loss: 0.6892 - accuracy: 0.5414\n",
      "Epoch 40/100\n",
      "804/804 [==============================] - 1s 792us/step - loss: 0.6892 - accuracy: 0.5412\n",
      "Epoch 41/100\n",
      "804/804 [==============================] - 1s 784us/step - loss: 0.6891 - accuracy: 0.5406\n",
      "Epoch 42/100\n",
      "804/804 [==============================] - 1s 841us/step - loss: 0.6892 - accuracy: 0.5406\n",
      "Epoch 43/100\n",
      "804/804 [==============================] - 1s 840us/step - loss: 0.6891 - accuracy: 0.5412\n",
      "Epoch 44/100\n",
      "804/804 [==============================] - 1s 808us/step - loss: 0.6892 - accuracy: 0.5411\n",
      "Epoch 45/100\n",
      "804/804 [==============================] - 1s 801us/step - loss: 0.6891 - accuracy: 0.5405\n",
      "Epoch 46/100\n",
      "804/804 [==============================] - 1s 792us/step - loss: 0.6892 - accuracy: 0.5409\n",
      "Epoch 47/100\n",
      "804/804 [==============================] - 1s 787us/step - loss: 0.6891 - accuracy: 0.5411\n",
      "Epoch 48/100\n",
      "804/804 [==============================] - 1s 780us/step - loss: 0.6892 - accuracy: 0.5410\n",
      "Epoch 49/100\n",
      "804/804 [==============================] - 1s 807us/step - loss: 0.6891 - accuracy: 0.5408\n",
      "Epoch 50/100\n",
      "804/804 [==============================] - 1s 774us/step - loss: 0.6891 - accuracy: 0.5411\n",
      "Epoch 51/100\n",
      "804/804 [==============================] - 1s 778us/step - loss: 0.6891 - accuracy: 0.5414\n",
      "Epoch 52/100\n",
      "804/804 [==============================] - 1s 805us/step - loss: 0.6891 - accuracy: 0.5407\n",
      "Epoch 53/100\n",
      "804/804 [==============================] - 1s 799us/step - loss: 0.6891 - accuracy: 0.5413\n",
      "Epoch 54/100\n",
      "804/804 [==============================] - 1s 772us/step - loss: 0.6891 - accuracy: 0.5413\n",
      "Epoch 55/100\n",
      "804/804 [==============================] - 1s 774us/step - loss: 0.6892 - accuracy: 0.5404\n",
      "Epoch 56/100\n",
      "804/804 [==============================] - 1s 801us/step - loss: 0.6891 - accuracy: 0.5414\n",
      "Epoch 57/100\n",
      "804/804 [==============================] - 1s 774us/step - loss: 0.6891 - accuracy: 0.5411\n",
      "Epoch 58/100\n",
      "804/804 [==============================] - 1s 835us/step - loss: 0.6892 - accuracy: 0.5417\n",
      "Epoch 59/100\n",
      "804/804 [==============================] - 1s 796us/step - loss: 0.6891 - accuracy: 0.5412\n",
      "Epoch 60/100\n",
      "804/804 [==============================] - 1s 790us/step - loss: 0.6891 - accuracy: 0.5414\n",
      "Epoch 61/100\n",
      "804/804 [==============================] - 1s 804us/step - loss: 0.6891 - accuracy: 0.5411\n",
      "Epoch 62/100\n",
      "804/804 [==============================] - 1s 786us/step - loss: 0.6891 - accuracy: 0.5414\n",
      "Epoch 63/100\n",
      "804/804 [==============================] - 1s 789us/step - loss: 0.6891 - accuracy: 0.5401\n",
      "Epoch 64/100\n",
      "804/804 [==============================] - 1s 797us/step - loss: 0.6891 - accuracy: 0.5407\n",
      "Epoch 65/100\n",
      "804/804 [==============================] - 1s 822us/step - loss: 0.6891 - accuracy: 0.5414\n",
      "Epoch 66/100\n",
      "804/804 [==============================] - 1s 796us/step - loss: 0.6892 - accuracy: 0.5410\n",
      "Epoch 67/100\n",
      "804/804 [==============================] - 1s 801us/step - loss: 0.6891 - accuracy: 0.5412\n",
      "Epoch 68/100\n",
      "804/804 [==============================] - 1s 806us/step - loss: 0.6891 - accuracy: 0.5403\n",
      "Epoch 69/100\n",
      "804/804 [==============================] - 1s 784us/step - loss: 0.6891 - accuracy: 0.5404\n",
      "Epoch 70/100\n",
      "804/804 [==============================] - 1s 787us/step - loss: 0.6891 - accuracy: 0.5411\n",
      "Epoch 71/100\n",
      "804/804 [==============================] - 1s 775us/step - loss: 0.6891 - accuracy: 0.5411\n",
      "Epoch 72/100\n",
      "804/804 [==============================] - 1s 815us/step - loss: 0.6891 - accuracy: 0.5413\n",
      "Epoch 73/100\n",
      "804/804 [==============================] - 1s 784us/step - loss: 0.6891 - accuracy: 0.5407\n",
      "Epoch 74/100\n",
      "804/804 [==============================] - 1s 778us/step - loss: 0.6891 - accuracy: 0.5411\n",
      "Epoch 75/100\n",
      "804/804 [==============================] - 1s 753us/step - loss: 0.6891 - accuracy: 0.5413\n",
      "Epoch 76/100\n",
      "804/804 [==============================] - 1s 769us/step - loss: 0.6891 - accuracy: 0.5409\n",
      "Epoch 77/100\n",
      "804/804 [==============================] - 1s 805us/step - loss: 0.6892 - accuracy: 0.5408\n",
      "Epoch 78/100\n",
      "804/804 [==============================] - 1s 786us/step - loss: 0.6891 - accuracy: 0.5413\n",
      "Epoch 79/100\n",
      "804/804 [==============================] - 1s 801us/step - loss: 0.6891 - accuracy: 0.5411\n",
      "Epoch 80/100\n",
      "804/804 [==============================] - 1s 813us/step - loss: 0.6892 - accuracy: 0.5407\n",
      "Epoch 81/100\n",
      "804/804 [==============================] - 1s 796us/step - loss: 0.6892 - accuracy: 0.5412\n",
      "Epoch 82/100\n",
      "804/804 [==============================] - 1s 803us/step - loss: 0.6891 - accuracy: 0.5412\n",
      "Epoch 83/100\n",
      "804/804 [==============================] - 1s 810us/step - loss: 0.6891 - accuracy: 0.5414\n",
      "Epoch 84/100\n",
      "804/804 [==============================] - 1s 782us/step - loss: 0.6892 - accuracy: 0.5393\n",
      "Epoch 85/100\n",
      "804/804 [==============================] - 1s 808us/step - loss: 0.6891 - accuracy: 0.5411\n",
      "Epoch 86/100\n",
      "804/804 [==============================] - 1s 780us/step - loss: 0.6891 - accuracy: 0.5414\n",
      "Epoch 87/100\n",
      "804/804 [==============================] - 1s 794us/step - loss: 0.6890 - accuracy: 0.5411\n",
      "Epoch 88/100\n",
      "804/804 [==============================] - 1s 819us/step - loss: 0.6891 - accuracy: 0.5409\n",
      "Epoch 89/100\n",
      "804/804 [==============================] - 1s 789us/step - loss: 0.6891 - accuracy: 0.5411\n",
      "Epoch 90/100\n",
      "804/804 [==============================] - 1s 784us/step - loss: 0.6891 - accuracy: 0.5406\n",
      "Epoch 91/100\n",
      "804/804 [==============================] - 1s 794us/step - loss: 0.6891 - accuracy: 0.5413\n",
      "Epoch 92/100\n",
      "804/804 [==============================] - 1s 796us/step - loss: 0.6891 - accuracy: 0.5408\n",
      "Epoch 93/100\n",
      "804/804 [==============================] - 1s 780us/step - loss: 0.6891 - accuracy: 0.5412\n",
      "Epoch 94/100\n",
      "804/804 [==============================] - 1s 795us/step - loss: 0.6891 - accuracy: 0.5417\n",
      "Epoch 95/100\n",
      "804/804 [==============================] - 1s 793us/step - loss: 0.6892 - accuracy: 0.5410\n",
      "Epoch 96/100\n",
      "804/804 [==============================] - 1s 814us/step - loss: 0.6891 - accuracy: 0.5412\n",
      "Epoch 97/100\n",
      "804/804 [==============================] - 1s 792us/step - loss: 0.6891 - accuracy: 0.5411\n",
      "Epoch 98/100\n",
      "804/804 [==============================] - 1s 793us/step - loss: 0.6891 - accuracy: 0.5412\n",
      "Epoch 99/100\n",
      "804/804 [==============================] - 1s 785us/step - loss: 0.6891 - accuracy: 0.5412\n",
      "Epoch 100/100\n",
      "804/804 [==============================] - 1s 788us/step - loss: 0.6891 - accuracy: 0.5413\n"
     ]
    }
   ],
   "source": [
    "# Train the model\n",
    "fit_model = nn.fit(X_train_scaled, y_train, epochs=100)"
   ]
  },
  {
   "cell_type": "code",
   "execution_count": 16,
   "metadata": {},
   "outputs": [
    {
     "name": "stdout",
     "output_type": "stream",
     "text": [
      "268/268 - 0s - loss: 0.6888 - accuracy: 0.5426 - 279ms/epoch - 1ms/step\n",
      "Loss: 0.6887726783752441, Accuracy: 0.5426238775253296\n"
     ]
    }
   ],
   "source": [
    "# Evaluate the model using the test data\n",
    "model_loss, model_accuracy = nn.evaluate(X_test_scaled,y_test,verbose=2)\n",
    "print(f\"Loss: {model_loss}, Accuracy: {model_accuracy}\")\n",
    "\n",
    "# Loss: 0.6351907849311829, Accuracy: 0.6362681984901428- 4 NODES, 1 HIDDEN LAYERS\n",
    "# Loss: 0.6349024772644043, Accuracy: 0.6368513107299805 - 6 NODES, 1 HIDDEN LAYERS\n",
    "# Loss: 0.635087788105011, Accuracy: 0.636734664440155 - 10 NODES, 1 HIDDEN LAYERS\n",
    "# Loss: 0.6352222561836243, Accuracy: 0.6361516118049622 - 6 NODES, 2 HIDDEN LAYERS\n",
    "# Loss: 0.5564694404602051, Accuracy: 0.7271137237548828 - 6 NODES, 2 HIDDEN LAYERS - remove income amount\n",
    "# Loss: 0.5539696216583252, Accuracy: 0.7273469567298889 - 4 NODES\n",
    "# Loss: 0.5572041273117065, Accuracy: 0.727580189704895 - 4 NODES, 2 HIDDEN LAYERS\n"
   ]
  },
  {
   "cell_type": "code",
   "execution_count": 17,
   "metadata": {},
   "outputs": [
    {
     "data": {
      "text/plain": [
       "<Axes: >"
      ]
     },
     "execution_count": 17,
     "metadata": {},
     "output_type": "execute_result"
    },
    {
     "data": {
      "image/png": "[encoded data removed]",
      "text/plain": [
       "<Figure size 640x480 with 1 Axes>"
      ]
     },
     "metadata": {},
     "output_type": "display_data"
    }
   ],
   "source": [
    "# Create a DataFrame containing training history\n",
    "history_df = pd.DataFrame(fit_model.history, index=range(1,len(fit_model.history[\"loss\"])+1))\n",
    "\n",
    "# Plot the accuracy\n",
    "history_df.plot(y=\"accuracy\")"
   ]
  },
  {
   "cell_type": "code",
   "execution_count": 18,
   "metadata": {},
   "outputs": [
    {
     "name": "stderr",
     "output_type": "stream",
     "text": [
      "c:\\Users\\inlik\\anaconda3\\envs\\dev2\\lib\\site-packages\\keras\\src\\engine\\training.py:3000: UserWarning: You are saving your model as an HDF5 file via `model.save()`. This file format is considered legacy. We recommend using instead the native Keras format, e.g. `model.save('my_model.keras')`.\n",
      "  saving_api.save_model(\n"
     ]
    }
   ],
   "source": [
    "import h5py\n",
    "\n",
    "# Export our model to HDF5 file\n",
    "# Warning said HDF5 file was legacy file format, so I used h5 instead of hdf5.\n",
    "with h5py.File('AlphabetSoupCharity_Optimization.h5', 'w') as f:\n",
    "    nn.save(f)"
   ]
  }
 ],
 "metadata": {
  "kernelspec": {
   "display_name": "Python 3",
   "language": "python",
   "name": "python3"
  },
  "language_info": {
   "codemirror_mode": {
    "name": "ipython",
    "version": 3
   },
   "file_extension": ".py",
   "mimetype": "text/x-python",
   "name": "python",
   "nbconvert_exporter": "python",
   "pygments_lexer": "ipython3",
   "version": "3.10.13"
  },
  "vscode": {
   "interpreter": {
    "hash": "31f2aee4e71d21fbe5cf8b01ff0e069b9275f58929596ceb00d14d90e3e16cd6"
   }
  }
 },
 "nbformat": 4,
 "nbformat_minor": 4
}
